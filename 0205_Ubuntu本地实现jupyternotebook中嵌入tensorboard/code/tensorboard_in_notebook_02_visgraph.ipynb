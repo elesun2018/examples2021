{
 "cells": [
  {
   "cell_type": "code",
   "execution_count": 16,
   "id": "advised-memphis",
   "metadata": {},
   "outputs": [],
   "source": [
    "import os\n",
    "import tensorflow as tf\n",
    "import shutil\n",
    "if os.path.exists(\"log02\"):\n",
    "    shutil.rmtree(\"log02\")\n",
    "os.makedirs(\"log02\")\n",
    "tf.reset_default_graph()\n",
    "with tf.name_scope(\"input1\"):\n",
    "    input1 = tf.constant([1.0, 2.0, 3.0], name=\"input1\")\n",
    "with tf.name_scope(\"input2\"):\n",
    "    input2 = tf.Variable(tf.random_uniform([3]), name=\"input2\")\n",
    "output = tf.add_n([input1, input2], name=\"add\")\n",
    "\n",
    "writer = tf.summary.FileWriter(\"log02\", tf.get_default_graph())\n",
    "writer.close()"
   ]
  },
  {
   "cell_type": "code",
   "execution_count": 17,
   "id": "designing-tucson",
   "metadata": {},
   "outputs": [],
   "source": [
    "#anaconda cmd input : tensorboard --logdir=logdirname"
   ]
  },
  {
   "cell_type": "code",
   "execution_count": 18,
   "id": "ready-constitutional",
   "metadata": {},
   "outputs": [
    {
     "name": "stdout",
     "output_type": "stream",
     "text": [
      "The tensorboard extension is already loaded. To reload it, use:\n",
      "  %reload_ext tensorboard\n"
     ]
    }
   ],
   "source": [
    "# Load the TensorBoard notebook extension\n",
    "%load_ext tensorboard"
   ]
  },
  {
   "cell_type": "code",
   "execution_count": 19,
   "id": "angry-method",
   "metadata": {
    "scrolled": true
   },
   "outputs": [
    {
     "data": {
      "text/plain": [
       "Reusing TensorBoard on port 6006 (pid 14456), started 0:15:22 ago. (Use '!kill 14456' to kill it.)"
      ]
     },
     "metadata": {},
     "output_type": "display_data"
    },
    {
     "data": {
      "text/html": [
       "\n",
       "        <iframe\n",
       "            width=\"100%\"\n",
       "            height=\"800\"\n",
       "            src=\"http://localhost:6006\"\n",
       "            frameborder=\"0\"\n",
       "            allowfullscreen\n",
       "        ></iframe>\n",
       "        "
      ],
      "text/plain": [
       "<IPython.lib.display.IFrame at 0x7f76f02e8828>"
      ]
     },
     "metadata": {},
     "output_type": "display_data"
    }
   ],
   "source": [
    "%tensorboard --logdir=\"log02\""
   ]
  },
  {
   "cell_type": "code",
   "execution_count": 21,
   "id": "tamil-remedy",
   "metadata": {},
   "outputs": [
    {
     "name": "stdout",
     "output_type": "stream",
     "text": [
      "Known TensorBoard instances:\n",
      "  - port 6006: logdir logs (started 2 days, 5:29:28 ago; pid 4166)\n",
      "  - port 6007: logdir logfile (started 2 days, 4:49:04 ago; pid 4483)\n",
      "  - port 6008: logdir logs (started 2 days, 2:32:09 ago; pid 6682)\n",
      "  - port 6009: logdir logs01 (started 2 days, 2:27:31 ago; pid 6876)\n",
      "  - port 6010: logdir logs02 (started 2 days, 2:25:12 ago; pid 6947)\n",
      "  - port 6011: logdir logdir (started 2 days, 2:20:22 ago; pid 7053)\n",
      "  - port 6009: logdir log01 (started 0:20:20 ago; pid 14301)\n",
      "  - port 6006: logdir log02 (started 0:15:52 ago; pid 14456)\n",
      "  - port 6007: logdir log02 (started 0:05:39 ago; pid 15333)\n",
      "  - port 6008: logdir logs03 (started 0:04:20 ago; pid 15467)\n"
     ]
    }
   ],
   "source": [
    "from tensorboard import notebook\n",
    "notebook.list() # View open TensorBoard instances"
   ]
  },
  {
   "cell_type": "code",
   "execution_count": 22,
   "id": "environmental-invasion",
   "metadata": {},
   "outputs": [
    {
     "name": "stdout",
     "output_type": "stream",
     "text": [
      "/bin/bash: line 0: kill: (14069) - No such process\r\n"
     ]
    }
   ],
   "source": [
    "!kill 14069"
   ]
  },
  {
   "cell_type": "code",
   "execution_count": 23,
   "id": "bound-occupation",
   "metadata": {},
   "outputs": [
    {
     "name": "stdout",
     "output_type": "stream",
     "text": [
      "Selecting TensorBoard with logdir log02 (started 0:15:53 ago; port 6006, pid 14456).\n"
     ]
    },
    {
     "data": {
      "text/html": [
       "\n",
       "        <iframe\n",
       "            width=\"100%\"\n",
       "            height=\"1000\"\n",
       "            src=\"http://localhost:6006\"\n",
       "            frameborder=\"0\"\n",
       "            allowfullscreen\n",
       "        ></iframe>\n",
       "        "
      ],
      "text/plain": [
       "<IPython.lib.display.IFrame at 0x7f76f0275940>"
      ]
     },
     "metadata": {},
     "output_type": "display_data"
    }
   ],
   "source": [
    "# Control TensorBoard display. If no port is provided, \n",
    "# the most recently launched TensorBoard is used\n",
    "notebook.display(port=6006, height=1000)"
   ]
  },
  {
   "cell_type": "code",
   "execution_count": null,
   "id": "wanted-episode",
   "metadata": {},
   "outputs": [],
   "source": []
  }
 ],
 "metadata": {
  "kernelspec": {
   "display_name": "Python 3",
   "language": "python",
   "name": "python3"
  },
  "language_info": {
   "codemirror_mode": {
    "name": "ipython",
    "version": 3
   },
   "file_extension": ".py",
   "mimetype": "text/x-python",
   "name": "python",
   "nbconvert_exporter": "python",
   "pygments_lexer": "ipython3",
   "version": "3.6.2"
  }
 },
 "nbformat": 4,
 "nbformat_minor": 5
}
